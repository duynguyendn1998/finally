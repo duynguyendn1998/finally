{
 "cells": [
  {
   "cell_type": "code",
   "execution_count": 1,
   "metadata": {},
   "outputs": [],
   "source": [
    "import pandas as pd\n",
    "import numpy as np\n",
    "import seaborn as sns\n",
    "import matplotlib.pyplot as plt"
   ]
  },
  {
   "cell_type": "code",
   "execution_count": 2,
   "metadata": {},
   "outputs": [
    {
     "data": {
      "text/html": [
       "<div>\n",
       "<style scoped>\n",
       "    .dataframe tbody tr th:only-of-type {\n",
       "        vertical-align: middle;\n",
       "    }\n",
       "\n",
       "    .dataframe tbody tr th {\n",
       "        vertical-align: top;\n",
       "    }\n",
       "\n",
       "    .dataframe thead th {\n",
       "        text-align: right;\n",
       "    }\n",
       "</style>\n",
       "<table border=\"1\" class=\"dataframe\">\n",
       "  <thead>\n",
       "    <tr style=\"text-align: right;\">\n",
       "      <th></th>\n",
       "      <th>timestamp</th>\n",
       "      <th>user_id</th>\n",
       "      <th>service_id</th>\n",
       "      <th>store_id</th>\n",
       "      <th>amount</th>\n",
       "      <th>time</th>\n",
       "      <th>hour</th>\n",
       "      <th>dayofweek</th>\n",
       "      <th>category</th>\n",
       "      <th>dayofweek_number</th>\n",
       "    </tr>\n",
       "  </thead>\n",
       "  <tbody>\n",
       "    <tr>\n",
       "      <th>0</th>\n",
       "      <td>1.564590e+12</td>\n",
       "      <td>8.160000e+18</td>\n",
       "      <td>1.330000e+18</td>\n",
       "      <td>3.210000e+18</td>\n",
       "      <td>85000</td>\n",
       "      <td>31/07/2019 16:20</td>\n",
       "      <td>17</td>\n",
       "      <td>Wednesday</td>\n",
       "      <td>cvs</td>\n",
       "      <td>2</td>\n",
       "    </tr>\n",
       "    <tr>\n",
       "      <th>1</th>\n",
       "      <td>1.564600e+12</td>\n",
       "      <td>2.330000e+18</td>\n",
       "      <td>1.560000e+18</td>\n",
       "      <td>5.010000e+18</td>\n",
       "      <td>996000</td>\n",
       "      <td>31/07/2019 19:06</td>\n",
       "      <td>18</td>\n",
       "      <td>Wednesday</td>\n",
       "      <td>mass merchant</td>\n",
       "      <td>2</td>\n",
       "    </tr>\n",
       "    <tr>\n",
       "      <th>2</th>\n",
       "      <td>1.564600e+12</td>\n",
       "      <td>6.330000e+18</td>\n",
       "      <td>2.840000e+18</td>\n",
       "      <td>6.240000e+18</td>\n",
       "      <td>190000</td>\n",
       "      <td>31/07/2019 19:06</td>\n",
       "      <td>18</td>\n",
       "      <td>Wednesday</td>\n",
       "      <td>mass merchant</td>\n",
       "      <td>2</td>\n",
       "    </tr>\n",
       "    <tr>\n",
       "      <th>3</th>\n",
       "      <td>1.564600e+12</td>\n",
       "      <td>4.730000e+18</td>\n",
       "      <td>2.840000e+18</td>\n",
       "      <td>6.240000e+18</td>\n",
       "      <td>961000</td>\n",
       "      <td>31/07/2019 19:06</td>\n",
       "      <td>18</td>\n",
       "      <td>Wednesday</td>\n",
       "      <td>mass merchant</td>\n",
       "      <td>2</td>\n",
       "    </tr>\n",
       "    <tr>\n",
       "      <th>4</th>\n",
       "      <td>1.564600e+12</td>\n",
       "      <td>3.580000e+18</td>\n",
       "      <td>5.250000e+18</td>\n",
       "      <td>8.850000e+18</td>\n",
       "      <td>1278000</td>\n",
       "      <td>31/07/2019 19:06</td>\n",
       "      <td>20</td>\n",
       "      <td>Wednesday</td>\n",
       "      <td>mass merchant</td>\n",
       "      <td>2</td>\n",
       "    </tr>\n",
       "  </tbody>\n",
       "</table>\n",
       "</div>"
      ],
      "text/plain": [
       "      timestamp       user_id    service_id      store_id   amount  \\\n",
       "0  1.564590e+12  8.160000e+18  1.330000e+18  3.210000e+18    85000   \n",
       "1  1.564600e+12  2.330000e+18  1.560000e+18  5.010000e+18   996000   \n",
       "2  1.564600e+12  6.330000e+18  2.840000e+18  6.240000e+18   190000   \n",
       "3  1.564600e+12  4.730000e+18  2.840000e+18  6.240000e+18   961000   \n",
       "4  1.564600e+12  3.580000e+18  5.250000e+18  8.850000e+18  1278000   \n",
       "\n",
       "               time  hour  dayofweek       category  dayofweek_number  \n",
       "0  31/07/2019 16:20    17  Wednesday            cvs                 2  \n",
       "1  31/07/2019 19:06    18  Wednesday  mass merchant                 2  \n",
       "2  31/07/2019 19:06    18  Wednesday  mass merchant                 2  \n",
       "3  31/07/2019 19:06    18  Wednesday  mass merchant                 2  \n",
       "4  31/07/2019 19:06    20  Wednesday  mass merchant                 2  "
      ]
     },
     "execution_count": 2,
     "metadata": {},
     "output_type": "execute_result"
    }
   ],
   "source": [
    "tra2 = pd.read_csv(\"./DataSet/momo_trans (2).csv\")\n",
    "tra2.head()"
   ]
  },
  {
   "cell_type": "code",
   "execution_count": 3,
   "metadata": {},
   "outputs": [
    {
     "data": {
      "text/plain": [
       "array(['cvs', 'mass merchant', 'coffee chains and milk tea', 'restaurant',\n",
       "       'fast food', 'shopping', 'mass ecom', 'supermarket'], dtype=object)"
      ]
     },
     "execution_count": 3,
     "metadata": {},
     "output_type": "execute_result"
    }
   ],
   "source": [
    "listCategory = tra2['category'].unique()\n",
    "listCategory"
   ]
  },
  {
   "cell_type": "code",
   "execution_count": 4,
   "metadata": {
    "scrolled": true
   },
   "outputs": [
    {
     "data": {
      "text/plain": [
       "{'cvs': 29.560135617416133,\n",
       " 'mass merchant': 35.992445871996196,\n",
       " 'coffee chains and milk tea': 19.100741533825047,\n",
       " 'restaurant': 5.75025775239908,\n",
       " 'fast food': 4.31011579030851,\n",
       " 'shopping': 1.140653501467206,\n",
       " 'mass ecom': 0.14870330716155128,\n",
       " 'supermarket': 3.9969466254262827}"
      ]
     },
     "execution_count": 4,
     "metadata": {},
     "output_type": "execute_result"
    }
   ],
   "source": [
    "percentage = {}\n",
    "for i in listCategory:\n",
    "    percentage[i] = (tra2[\"category\"] == i).sum() / tra2.shape[0] * 100\n",
    "percentage"
   ]
  },
  {
   "cell_type": "code",
   "execution_count": 5,
   "metadata": {},
   "outputs": [
    {
     "data": {
      "text/html": [
       "<div>\n",
       "<style scoped>\n",
       "    .dataframe tbody tr th:only-of-type {\n",
       "        vertical-align: middle;\n",
       "    }\n",
       "\n",
       "    .dataframe tbody tr th {\n",
       "        vertical-align: top;\n",
       "    }\n",
       "\n",
       "    .dataframe thead th {\n",
       "        text-align: right;\n",
       "    }\n",
       "</style>\n",
       "<table border=\"1\" class=\"dataframe\">\n",
       "  <thead>\n",
       "    <tr style=\"text-align: right;\">\n",
       "      <th></th>\n",
       "      <th>hour</th>\n",
       "      <th>dayofweek_number</th>\n",
       "    </tr>\n",
       "  </thead>\n",
       "  <tbody>\n",
       "    <tr>\n",
       "      <th>689578</th>\n",
       "      <td>10</td>\n",
       "      <td>1</td>\n",
       "    </tr>\n",
       "    <tr>\n",
       "      <th>182393</th>\n",
       "      <td>5</td>\n",
       "      <td>5</td>\n",
       "    </tr>\n",
       "    <tr>\n",
       "      <th>858553</th>\n",
       "      <td>7</td>\n",
       "      <td>6</td>\n",
       "    </tr>\n",
       "    <tr>\n",
       "      <th>406411</th>\n",
       "      <td>3</td>\n",
       "      <td>6</td>\n",
       "    </tr>\n",
       "    <tr>\n",
       "      <th>97495</th>\n",
       "      <td>2</td>\n",
       "      <td>5</td>\n",
       "    </tr>\n",
       "    <tr>\n",
       "      <th>831255</th>\n",
       "      <td>8</td>\n",
       "      <td>4</td>\n",
       "    </tr>\n",
       "    <tr>\n",
       "      <th>724400</th>\n",
       "      <td>0</td>\n",
       "      <td>2</td>\n",
       "    </tr>\n",
       "    <tr>\n",
       "      <th>389663</th>\n",
       "      <td>1</td>\n",
       "      <td>1</td>\n",
       "    </tr>\n",
       "    <tr>\n",
       "      <th>320018</th>\n",
       "      <td>7</td>\n",
       "      <td>3</td>\n",
       "    </tr>\n",
       "    <tr>\n",
       "      <th>349366</th>\n",
       "      <td>7</td>\n",
       "      <td>6</td>\n",
       "    </tr>\n",
       "  </tbody>\n",
       "</table>\n",
       "</div>"
      ],
      "text/plain": [
       "        hour  dayofweek_number\n",
       "689578    10                 1\n",
       "182393     5                 5\n",
       "858553     7                 6\n",
       "406411     3                 6\n",
       "97495      2                 5\n",
       "831255     8                 4\n",
       "724400     0                 2\n",
       "389663     1                 1\n",
       "320018     7                 3\n",
       "349366     7                 6"
      ]
     },
     "execution_count": 5,
     "metadata": {},
     "output_type": "execute_result"
    }
   ],
   "source": [
    "X = tra2[[\"hour\",\"dayofweek_number\"]]\n",
    "y = tra2[\"category\"]\n",
    "X.sample(10)"
   ]
  },
  {
   "cell_type": "code",
   "execution_count": 6,
   "metadata": {},
   "outputs": [
    {
     "data": {
      "text/html": [
       "<div>\n",
       "<style scoped>\n",
       "    .dataframe tbody tr th:only-of-type {\n",
       "        vertical-align: middle;\n",
       "    }\n",
       "\n",
       "    .dataframe tbody tr th {\n",
       "        vertical-align: top;\n",
       "    }\n",
       "\n",
       "    .dataframe thead th {\n",
       "        text-align: right;\n",
       "    }\n",
       "</style>\n",
       "<table border=\"1\" class=\"dataframe\">\n",
       "  <thead>\n",
       "    <tr style=\"text-align: right;\">\n",
       "      <th></th>\n",
       "      <th>coffee chains and milk tea</th>\n",
       "      <th>cvs</th>\n",
       "      <th>fast food</th>\n",
       "      <th>mass ecom</th>\n",
       "      <th>mass merchant</th>\n",
       "      <th>restaurant</th>\n",
       "      <th>shopping</th>\n",
       "      <th>supermarket</th>\n",
       "    </tr>\n",
       "  </thead>\n",
       "  <tbody>\n",
       "    <tr>\n",
       "      <th>0</th>\n",
       "      <td>0</td>\n",
       "      <td>1</td>\n",
       "      <td>0</td>\n",
       "      <td>0</td>\n",
       "      <td>0</td>\n",
       "      <td>0</td>\n",
       "      <td>0</td>\n",
       "      <td>0</td>\n",
       "    </tr>\n",
       "    <tr>\n",
       "      <th>1</th>\n",
       "      <td>0</td>\n",
       "      <td>0</td>\n",
       "      <td>0</td>\n",
       "      <td>0</td>\n",
       "      <td>1</td>\n",
       "      <td>0</td>\n",
       "      <td>0</td>\n",
       "      <td>0</td>\n",
       "    </tr>\n",
       "    <tr>\n",
       "      <th>2</th>\n",
       "      <td>0</td>\n",
       "      <td>0</td>\n",
       "      <td>0</td>\n",
       "      <td>0</td>\n",
       "      <td>1</td>\n",
       "      <td>0</td>\n",
       "      <td>0</td>\n",
       "      <td>0</td>\n",
       "    </tr>\n",
       "    <tr>\n",
       "      <th>3</th>\n",
       "      <td>0</td>\n",
       "      <td>0</td>\n",
       "      <td>0</td>\n",
       "      <td>0</td>\n",
       "      <td>1</td>\n",
       "      <td>0</td>\n",
       "      <td>0</td>\n",
       "      <td>0</td>\n",
       "    </tr>\n",
       "    <tr>\n",
       "      <th>4</th>\n",
       "      <td>0</td>\n",
       "      <td>0</td>\n",
       "      <td>0</td>\n",
       "      <td>0</td>\n",
       "      <td>1</td>\n",
       "      <td>0</td>\n",
       "      <td>0</td>\n",
       "      <td>0</td>\n",
       "    </tr>\n",
       "  </tbody>\n",
       "</table>\n",
       "</div>"
      ],
      "text/plain": [
       "   coffee chains and milk tea  cvs  fast food  mass ecom  mass merchant  \\\n",
       "0                           0    1          0          0              0   \n",
       "1                           0    0          0          0              1   \n",
       "2                           0    0          0          0              1   \n",
       "3                           0    0          0          0              1   \n",
       "4                           0    0          0          0              1   \n",
       "\n",
       "   restaurant  shopping  supermarket  \n",
       "0           0         0            0  \n",
       "1           0         0            0  \n",
       "2           0         0            0  \n",
       "3           0         0            0  \n",
       "4           0         0            0  "
      ]
     },
     "execution_count": 6,
     "metadata": {},
     "output_type": "execute_result"
    }
   ],
   "source": [
    "y = pd.get_dummies(y)\n",
    "y.head()"
   ]
  },
  {
   "cell_type": "code",
   "execution_count": 7,
   "metadata": {},
   "outputs": [],
   "source": [
    "from sklearn.model_selection import train_test_split\n",
    "X_train, X_test, y_train, y_test = train_test_split(X, y, test_size=0.25, random_state=42)"
   ]
  },
  {
   "cell_type": "code",
   "execution_count": 8,
   "metadata": {},
   "outputs": [
    {
     "data": {
      "text/html": [
       "<div>\n",
       "<style scoped>\n",
       "    .dataframe tbody tr th:only-of-type {\n",
       "        vertical-align: middle;\n",
       "    }\n",
       "\n",
       "    .dataframe tbody tr th {\n",
       "        vertical-align: top;\n",
       "    }\n",
       "\n",
       "    .dataframe thead th {\n",
       "        text-align: right;\n",
       "    }\n",
       "</style>\n",
       "<table border=\"1\" class=\"dataframe\">\n",
       "  <thead>\n",
       "    <tr style=\"text-align: right;\">\n",
       "      <th></th>\n",
       "      <th>hour</th>\n",
       "      <th>dayofweek_number</th>\n",
       "      <th>coffee chains and milk tea</th>\n",
       "      <th>cvs</th>\n",
       "      <th>fast food</th>\n",
       "      <th>mass ecom</th>\n",
       "      <th>mass merchant</th>\n",
       "      <th>restaurant</th>\n",
       "      <th>shopping</th>\n",
       "      <th>supermarket</th>\n",
       "    </tr>\n",
       "  </thead>\n",
       "  <tbody>\n",
       "    <tr>\n",
       "      <th>858359</th>\n",
       "      <td>15</td>\n",
       "      <td>1</td>\n",
       "      <td>0</td>\n",
       "      <td>1</td>\n",
       "      <td>0</td>\n",
       "      <td>0</td>\n",
       "      <td>0</td>\n",
       "      <td>0</td>\n",
       "      <td>0</td>\n",
       "      <td>0</td>\n",
       "    </tr>\n",
       "    <tr>\n",
       "      <th>982564</th>\n",
       "      <td>3</td>\n",
       "      <td>5</td>\n",
       "      <td>0</td>\n",
       "      <td>1</td>\n",
       "      <td>0</td>\n",
       "      <td>0</td>\n",
       "      <td>0</td>\n",
       "      <td>0</td>\n",
       "      <td>0</td>\n",
       "      <td>0</td>\n",
       "    </tr>\n",
       "    <tr>\n",
       "      <th>193589</th>\n",
       "      <td>7</td>\n",
       "      <td>6</td>\n",
       "      <td>0</td>\n",
       "      <td>0</td>\n",
       "      <td>0</td>\n",
       "      <td>0</td>\n",
       "      <td>1</td>\n",
       "      <td>0</td>\n",
       "      <td>0</td>\n",
       "      <td>0</td>\n",
       "    </tr>\n",
       "    <tr>\n",
       "      <th>227611</th>\n",
       "      <td>4</td>\n",
       "      <td>1</td>\n",
       "      <td>0</td>\n",
       "      <td>0</td>\n",
       "      <td>0</td>\n",
       "      <td>0</td>\n",
       "      <td>1</td>\n",
       "      <td>0</td>\n",
       "      <td>0</td>\n",
       "      <td>0</td>\n",
       "    </tr>\n",
       "    <tr>\n",
       "      <th>504721</th>\n",
       "      <td>12</td>\n",
       "      <td>6</td>\n",
       "      <td>0</td>\n",
       "      <td>1</td>\n",
       "      <td>0</td>\n",
       "      <td>0</td>\n",
       "      <td>0</td>\n",
       "      <td>0</td>\n",
       "      <td>0</td>\n",
       "      <td>0</td>\n",
       "    </tr>\n",
       "  </tbody>\n",
       "</table>\n",
       "</div>"
      ],
      "text/plain": [
       "        hour  dayofweek_number  coffee chains and milk tea  cvs  fast food  \\\n",
       "858359    15                 1                           0    1          0   \n",
       "982564     3                 5                           0    1          0   \n",
       "193589     7                 6                           0    0          0   \n",
       "227611     4                 1                           0    0          0   \n",
       "504721    12                 6                           0    1          0   \n",
       "\n",
       "        mass ecom  mass merchant  restaurant  shopping  supermarket  \n",
       "858359          0              0           0         0            0  \n",
       "982564          0              0           0         0            0  \n",
       "193589          0              1           0         0            0  \n",
       "227611          0              1           0         0            0  \n",
       "504721          0              0           0         0            0  "
      ]
     },
     "execution_count": 8,
     "metadata": {},
     "output_type": "execute_result"
    }
   ],
   "source": [
    "training_data = pd.concat ([X_train,y_train],axis = 1)\n",
    "training_data.head()"
   ]
  },
  {
   "cell_type": "code",
   "execution_count": 9,
   "metadata": {},
   "outputs": [
    {
     "data": {
      "text/html": [
       "<div>\n",
       "<style scoped>\n",
       "    .dataframe tbody tr th:only-of-type {\n",
       "        vertical-align: middle;\n",
       "    }\n",
       "\n",
       "    .dataframe tbody tr th {\n",
       "        vertical-align: top;\n",
       "    }\n",
       "\n",
       "    .dataframe thead th {\n",
       "        text-align: right;\n",
       "    }\n",
       "</style>\n",
       "<table border=\"1\" class=\"dataframe\">\n",
       "  <thead>\n",
       "    <tr style=\"text-align: right;\">\n",
       "      <th></th>\n",
       "      <th>hour</th>\n",
       "      <th>dayofweek_number</th>\n",
       "      <th>coffee chains and milk tea</th>\n",
       "      <th>cvs</th>\n",
       "      <th>fast food</th>\n",
       "      <th>mass ecom</th>\n",
       "      <th>mass merchant</th>\n",
       "      <th>restaurant</th>\n",
       "      <th>shopping</th>\n",
       "      <th>supermarket</th>\n",
       "    </tr>\n",
       "  </thead>\n",
       "  <tbody>\n",
       "    <tr>\n",
       "      <th>39609</th>\n",
       "      <td>4</td>\n",
       "      <td>2</td>\n",
       "      <td>0</td>\n",
       "      <td>0</td>\n",
       "      <td>0</td>\n",
       "      <td>0</td>\n",
       "      <td>0</td>\n",
       "      <td>1</td>\n",
       "      <td>0</td>\n",
       "      <td>0</td>\n",
       "    </tr>\n",
       "    <tr>\n",
       "      <th>649966</th>\n",
       "      <td>12</td>\n",
       "      <td>3</td>\n",
       "      <td>0</td>\n",
       "      <td>0</td>\n",
       "      <td>0</td>\n",
       "      <td>0</td>\n",
       "      <td>1</td>\n",
       "      <td>0</td>\n",
       "      <td>0</td>\n",
       "      <td>0</td>\n",
       "    </tr>\n",
       "    <tr>\n",
       "      <th>682791</th>\n",
       "      <td>2</td>\n",
       "      <td>3</td>\n",
       "      <td>0</td>\n",
       "      <td>0</td>\n",
       "      <td>0</td>\n",
       "      <td>0</td>\n",
       "      <td>1</td>\n",
       "      <td>0</td>\n",
       "      <td>0</td>\n",
       "      <td>0</td>\n",
       "    </tr>\n",
       "    <tr>\n",
       "      <th>991612</th>\n",
       "      <td>2</td>\n",
       "      <td>0</td>\n",
       "      <td>0</td>\n",
       "      <td>1</td>\n",
       "      <td>0</td>\n",
       "      <td>0</td>\n",
       "      <td>0</td>\n",
       "      <td>0</td>\n",
       "      <td>0</td>\n",
       "      <td>0</td>\n",
       "    </tr>\n",
       "    <tr>\n",
       "      <th>840413</th>\n",
       "      <td>12</td>\n",
       "      <td>3</td>\n",
       "      <td>0</td>\n",
       "      <td>1</td>\n",
       "      <td>0</td>\n",
       "      <td>0</td>\n",
       "      <td>0</td>\n",
       "      <td>0</td>\n",
       "      <td>0</td>\n",
       "      <td>0</td>\n",
       "    </tr>\n",
       "  </tbody>\n",
       "</table>\n",
       "</div>"
      ],
      "text/plain": [
       "        hour  dayofweek_number  coffee chains and milk tea  cvs  fast food  \\\n",
       "39609      4                 2                           0    0          0   \n",
       "649966    12                 3                           0    0          0   \n",
       "682791     2                 3                           0    0          0   \n",
       "991612     2                 0                           0    1          0   \n",
       "840413    12                 3                           0    1          0   \n",
       "\n",
       "        mass ecom  mass merchant  restaurant  shopping  supermarket  \n",
       "39609           0              0           1         0            0  \n",
       "649966          0              1           0         0            0  \n",
       "682791          0              1           0         0            0  \n",
       "991612          0              0           0         0            0  \n",
       "840413          0              0           0         0            0  "
      ]
     },
     "execution_count": 9,
     "metadata": {},
     "output_type": "execute_result"
    }
   ],
   "source": [
    "test_data = pd.concat ([X_test,y_test],axis = 1)\n",
    "test_data.head()"
   ]
  },
  {
   "cell_type": "code",
   "execution_count": 10,
   "metadata": {},
   "outputs": [
    {
     "data": {
      "text/plain": [
       "cvs                           223577\n",
       "mass merchant                 272378\n",
       "coffee chains and milk tea    144403\n",
       "restaurant                     43591\n",
       "fast food                      32558\n",
       "shopping                        8641\n",
       "mass ecom                       1115\n",
       "supermarket                    30277\n",
       "dtype: int64"
      ]
     },
     "execution_count": 10,
     "metadata": {},
     "output_type": "execute_result"
    }
   ],
   "source": [
    "data_value_counts = {}\n",
    "for i in listCategory:\n",
    "    data_value_counts[i] = training_data[i].value_counts()[1]\n",
    "data_value_counts = pd.Series(data_value_counts)\n",
    "data_value_counts"
   ]
  },
  {
   "cell_type": "markdown",
   "metadata": {},
   "source": [
    "# Dự đoán từng cái category có hay không"
   ]
  },
  {
   "cell_type": "code",
   "execution_count": 11,
   "metadata": {},
   "outputs": [
    {
     "name": "stdout",
     "output_type": "stream",
     "text": [
      "cvs\n",
      "0    532963\n",
      "1    223577\n",
      "Name: cvs, dtype: int64\n",
      "=========\n",
      "mass merchant\n",
      "0    484162\n",
      "1    272378\n",
      "Name: mass merchant, dtype: int64\n",
      "=========\n",
      "coffee chains and milk tea\n",
      "0    612137\n",
      "1    144403\n",
      "Name: coffee chains and milk tea, dtype: int64\n",
      "=========\n",
      "restaurant\n",
      "0    712949\n",
      "1     43591\n",
      "Name: restaurant, dtype: int64\n",
      "=========\n",
      "fast food\n",
      "0    723982\n",
      "1     32558\n",
      "Name: fast food, dtype: int64\n",
      "=========\n",
      "shopping\n",
      "0    747899\n",
      "1      8641\n",
      "Name: shopping, dtype: int64\n",
      "=========\n",
      "mass ecom\n",
      "0    755425\n",
      "1      1115\n",
      "Name: mass ecom, dtype: int64\n",
      "=========\n",
      "supermarket\n",
      "0    726263\n",
      "1     30277\n",
      "Name: supermarket, dtype: int64\n",
      "=========\n"
     ]
    }
   ],
   "source": [
    "for i in listCategory:\n",
    "    print(i)\n",
    "    print(training_data[i].value_counts())\n",
    "    print(\"=========\")"
   ]
  },
  {
   "cell_type": "markdown",
   "metadata": {},
   "source": [
    "## Not under sample - over sample"
   ]
  },
  {
   "cell_type": "code",
   "execution_count": 23,
   "metadata": {},
   "outputs": [
    {
     "data": {
      "text/html": [
       "<div>\n",
       "<style scoped>\n",
       "    .dataframe tbody tr th:only-of-type {\n",
       "        vertical-align: middle;\n",
       "    }\n",
       "\n",
       "    .dataframe tbody tr th {\n",
       "        vertical-align: top;\n",
       "    }\n",
       "\n",
       "    .dataframe thead th {\n",
       "        text-align: right;\n",
       "    }\n",
       "</style>\n",
       "<table border=\"1\" class=\"dataframe\">\n",
       "  <thead>\n",
       "    <tr style=\"text-align: right;\">\n",
       "      <th></th>\n",
       "      <th>coffee chains and milk tea</th>\n",
       "      <th>cvs</th>\n",
       "      <th>fast food</th>\n",
       "      <th>mass ecom</th>\n",
       "      <th>mass merchant</th>\n",
       "      <th>restaurant</th>\n",
       "      <th>shopping</th>\n",
       "      <th>supermarket</th>\n",
       "    </tr>\n",
       "  </thead>\n",
       "  <tbody>\n",
       "    <tr>\n",
       "      <th>858359</th>\n",
       "      <td>0</td>\n",
       "      <td>1</td>\n",
       "      <td>0</td>\n",
       "      <td>0</td>\n",
       "      <td>0</td>\n",
       "      <td>0</td>\n",
       "      <td>0</td>\n",
       "      <td>0</td>\n",
       "    </tr>\n",
       "    <tr>\n",
       "      <th>982564</th>\n",
       "      <td>0</td>\n",
       "      <td>1</td>\n",
       "      <td>0</td>\n",
       "      <td>0</td>\n",
       "      <td>0</td>\n",
       "      <td>0</td>\n",
       "      <td>0</td>\n",
       "      <td>0</td>\n",
       "    </tr>\n",
       "    <tr>\n",
       "      <th>193589</th>\n",
       "      <td>0</td>\n",
       "      <td>0</td>\n",
       "      <td>0</td>\n",
       "      <td>0</td>\n",
       "      <td>1</td>\n",
       "      <td>0</td>\n",
       "      <td>0</td>\n",
       "      <td>0</td>\n",
       "    </tr>\n",
       "    <tr>\n",
       "      <th>227611</th>\n",
       "      <td>0</td>\n",
       "      <td>0</td>\n",
       "      <td>0</td>\n",
       "      <td>0</td>\n",
       "      <td>1</td>\n",
       "      <td>0</td>\n",
       "      <td>0</td>\n",
       "      <td>0</td>\n",
       "    </tr>\n",
       "    <tr>\n",
       "      <th>504721</th>\n",
       "      <td>0</td>\n",
       "      <td>1</td>\n",
       "      <td>0</td>\n",
       "      <td>0</td>\n",
       "      <td>0</td>\n",
       "      <td>0</td>\n",
       "      <td>0</td>\n",
       "      <td>0</td>\n",
       "    </tr>\n",
       "  </tbody>\n",
       "</table>\n",
       "</div>"
      ],
      "text/plain": [
       "        coffee chains and milk tea  cvs  fast food  mass ecom  mass merchant  \\\n",
       "858359                           0    1          0          0              0   \n",
       "982564                           0    1          0          0              0   \n",
       "193589                           0    0          0          0              1   \n",
       "227611                           0    0          0          0              1   \n",
       "504721                           0    1          0          0              0   \n",
       "\n",
       "        restaurant  shopping  supermarket  \n",
       "858359           0         0            0  \n",
       "982564           0         0            0  \n",
       "193589           0         0            0  \n",
       "227611           0         0            0  \n",
       "504721           0         0            0  "
      ]
     },
     "execution_count": 23,
     "metadata": {},
     "output_type": "execute_result"
    }
   ],
   "source": [
    "X = training_data[[\"hour\",\"dayofweek_number\"]]\n",
    "y = training_data.drop(columns=[\"hour\",\"dayofweek_number\"])"
   ]
  },
  {
   "cell_type": "code",
   "execution_count": 24,
   "metadata": {},
   "outputs": [],
   "source": [
    "from sklearn.linear_model import LogisticRegression\n",
    "from sklearn.tree import DecisionTreeClassifier\n",
    "from sklearn.ensemble import RandomForestClassifier\n",
    "from sklearn.naive_bayes import GaussianNB\n",
    "from sklearn.naive_bayes import BernoulliNB\n",
    "dictmodel = {}\n",
    "for cat in listCategory:\n",
    "#     model = LogisticRegression() # 1 (0.49)\n",
    "#     model = DecisionTreeClassifier() # 2 (0.39, 0.44)\n",
    "    model =  RandomForestClassifier(n_estimators=50, random_state=101, n_jobs=-1)\n",
    "#     model = GaussianNB()\n",
    "#     model = BernuolliNB()\n",
    "    model.fit(X,y[cat])\n",
    "    dictmodel[cat] = model"
   ]
  },
  {
   "cell_type": "code",
   "execution_count": 25,
   "metadata": {},
   "outputs": [
    {
     "data": {
      "text/plain": [
       "{'cvs': array([0, 0, 0, ..., 0, 0, 0], dtype=uint8),\n",
       " 'mass merchant': array([0, 0, 0, ..., 0, 0, 0], dtype=uint8),\n",
       " 'coffee chains and milk tea': array([0, 0, 0, ..., 0, 0, 0], dtype=uint8),\n",
       " 'restaurant': array([0, 0, 0, ..., 0, 0, 0], dtype=uint8),\n",
       " 'fast food': array([0, 0, 0, ..., 0, 0, 0], dtype=uint8),\n",
       " 'shopping': array([0, 0, 0, ..., 0, 0, 0], dtype=uint8),\n",
       " 'mass ecom': array([0, 0, 0, ..., 0, 0, 0], dtype=uint8),\n",
       " 'supermarket': array([0, 0, 0, ..., 0, 0, 0], dtype=uint8)}"
      ]
     },
     "execution_count": 25,
     "metadata": {},
     "output_type": "execute_result"
    }
   ],
   "source": [
    "Y_pred = {}\n",
    "for cat in listCategory:\n",
    "    Y_pred[cat] = dictmodel[cat].predict(X_test)\n",
    "Y_pred"
   ]
  },
  {
   "cell_type": "code",
   "execution_count": 26,
   "metadata": {},
   "outputs": [
    {
     "name": "stdout",
     "output_type": "stream",
     "text": [
      "cvs\n",
      "              precision    recall  f1-score   support\n",
      "\n",
      "           0       0.71      0.97      0.82    177578\n",
      "           1       0.51      0.08      0.13     74602\n",
      "\n",
      "   micro avg       0.71      0.71      0.71    252180\n",
      "   macro avg       0.61      0.52      0.48    252180\n",
      "weighted avg       0.65      0.71      0.62    252180\n",
      "\n",
      "mass merchant\n"
     ]
    },
    {
     "name": "stderr",
     "output_type": "stream",
     "text": [
      "C:\\ProgramData\\Anaconda3\\lib\\site-packages\\sklearn\\metrics\\classification.py:1143: UndefinedMetricWarning: Precision and F-score are ill-defined and being set to 0.0 in labels with no predicted samples.\n",
      "  'precision', 'predicted', average, warn_for)\n",
      "C:\\ProgramData\\Anaconda3\\lib\\site-packages\\sklearn\\metrics\\classification.py:1143: UndefinedMetricWarning: Precision and F-score are ill-defined and being set to 0.0 in labels with no predicted samples.\n",
      "  'precision', 'predicted', average, warn_for)\n",
      "C:\\ProgramData\\Anaconda3\\lib\\site-packages\\sklearn\\metrics\\classification.py:1143: UndefinedMetricWarning: Precision and F-score are ill-defined and being set to 0.0 in labels with no predicted samples.\n",
      "  'precision', 'predicted', average, warn_for)\n",
      "C:\\ProgramData\\Anaconda3\\lib\\site-packages\\sklearn\\metrics\\classification.py:1143: UndefinedMetricWarning: Precision and F-score are ill-defined and being set to 0.0 in labels with no predicted samples.\n",
      "  'precision', 'predicted', average, warn_for)\n"
     ]
    },
    {
     "name": "stdout",
     "output_type": "stream",
     "text": [
      "              precision    recall  f1-score   support\n",
      "\n",
      "           0       0.64      1.00      0.78    161495\n",
      "           1       0.00      0.00      0.00     90685\n",
      "\n",
      "   micro avg       0.64      0.64      0.64    252180\n",
      "   macro avg       0.32      0.50      0.39    252180\n",
      "weighted avg       0.41      0.64      0.50    252180\n",
      "\n",
      "coffee chains and milk tea\n"
     ]
    },
    {
     "name": "stderr",
     "output_type": "stream",
     "text": [
      "C:\\ProgramData\\Anaconda3\\lib\\site-packages\\sklearn\\metrics\\classification.py:1143: UndefinedMetricWarning: Precision and F-score are ill-defined and being set to 0.0 in labels with no predicted samples.\n",
      "  'precision', 'predicted', average, warn_for)\n",
      "C:\\ProgramData\\Anaconda3\\lib\\site-packages\\sklearn\\metrics\\classification.py:1143: UndefinedMetricWarning: Precision and F-score are ill-defined and being set to 0.0 in labels with no predicted samples.\n",
      "  'precision', 'predicted', average, warn_for)\n",
      "C:\\ProgramData\\Anaconda3\\lib\\site-packages\\sklearn\\metrics\\classification.py:1143: UndefinedMetricWarning: Precision and F-score are ill-defined and being set to 0.0 in labels with no predicted samples.\n",
      "  'precision', 'predicted', average, warn_for)\n"
     ]
    },
    {
     "name": "stdout",
     "output_type": "stream",
     "text": [
      "              precision    recall  f1-score   support\n",
      "\n",
      "           0       0.81      1.00      0.89    203910\n",
      "           1       0.00      0.00      0.00     48270\n",
      "\n",
      "   micro avg       0.81      0.81      0.81    252180\n",
      "   macro avg       0.40      0.50      0.45    252180\n",
      "weighted avg       0.65      0.81      0.72    252180\n",
      "\n",
      "restaurant\n"
     ]
    },
    {
     "name": "stderr",
     "output_type": "stream",
     "text": [
      "C:\\ProgramData\\Anaconda3\\lib\\site-packages\\sklearn\\metrics\\classification.py:1143: UndefinedMetricWarning: Precision and F-score are ill-defined and being set to 0.0 in labels with no predicted samples.\n",
      "  'precision', 'predicted', average, warn_for)\n",
      "C:\\ProgramData\\Anaconda3\\lib\\site-packages\\sklearn\\metrics\\classification.py:1143: UndefinedMetricWarning: Precision and F-score are ill-defined and being set to 0.0 in labels with no predicted samples.\n",
      "  'precision', 'predicted', average, warn_for)\n",
      "C:\\ProgramData\\Anaconda3\\lib\\site-packages\\sklearn\\metrics\\classification.py:1143: UndefinedMetricWarning: Precision and F-score are ill-defined and being set to 0.0 in labels with no predicted samples.\n",
      "  'precision', 'predicted', average, warn_for)\n"
     ]
    },
    {
     "name": "stdout",
     "output_type": "stream",
     "text": [
      "              precision    recall  f1-score   support\n",
      "\n",
      "           0       0.94      1.00      0.97    237767\n",
      "           1       0.00      0.00      0.00     14413\n",
      "\n",
      "   micro avg       0.94      0.94      0.94    252180\n",
      "   macro avg       0.47      0.50      0.49    252180\n",
      "weighted avg       0.89      0.94      0.92    252180\n",
      "\n",
      "fast food\n"
     ]
    },
    {
     "name": "stderr",
     "output_type": "stream",
     "text": [
      "C:\\ProgramData\\Anaconda3\\lib\\site-packages\\sklearn\\metrics\\classification.py:1143: UndefinedMetricWarning: Precision and F-score are ill-defined and being set to 0.0 in labels with no predicted samples.\n",
      "  'precision', 'predicted', average, warn_for)\n",
      "C:\\ProgramData\\Anaconda3\\lib\\site-packages\\sklearn\\metrics\\classification.py:1143: UndefinedMetricWarning: Precision and F-score are ill-defined and being set to 0.0 in labels with no predicted samples.\n",
      "  'precision', 'predicted', average, warn_for)\n",
      "C:\\ProgramData\\Anaconda3\\lib\\site-packages\\sklearn\\metrics\\classification.py:1143: UndefinedMetricWarning: Precision and F-score are ill-defined and being set to 0.0 in labels with no predicted samples.\n",
      "  'precision', 'predicted', average, warn_for)\n"
     ]
    },
    {
     "name": "stdout",
     "output_type": "stream",
     "text": [
      "              precision    recall  f1-score   support\n",
      "\n",
      "           0       0.96      1.00      0.98    241261\n",
      "           1       0.00      0.00      0.00     10919\n",
      "\n",
      "   micro avg       0.96      0.96      0.96    252180\n",
      "   macro avg       0.48      0.50      0.49    252180\n",
      "weighted avg       0.92      0.96      0.94    252180\n",
      "\n",
      "shopping\n"
     ]
    },
    {
     "name": "stderr",
     "output_type": "stream",
     "text": [
      "C:\\ProgramData\\Anaconda3\\lib\\site-packages\\sklearn\\metrics\\classification.py:1143: UndefinedMetricWarning: Precision and F-score are ill-defined and being set to 0.0 in labels with no predicted samples.\n",
      "  'precision', 'predicted', average, warn_for)\n",
      "C:\\ProgramData\\Anaconda3\\lib\\site-packages\\sklearn\\metrics\\classification.py:1143: UndefinedMetricWarning: Precision and F-score are ill-defined and being set to 0.0 in labels with no predicted samples.\n",
      "  'precision', 'predicted', average, warn_for)\n",
      "C:\\ProgramData\\Anaconda3\\lib\\site-packages\\sklearn\\metrics\\classification.py:1143: UndefinedMetricWarning: Precision and F-score are ill-defined and being set to 0.0 in labels with no predicted samples.\n",
      "  'precision', 'predicted', average, warn_for)\n"
     ]
    },
    {
     "name": "stdout",
     "output_type": "stream",
     "text": [
      "              precision    recall  f1-score   support\n",
      "\n",
      "           0       0.99      1.00      0.99    249315\n",
      "           1       0.00      0.00      0.00      2865\n",
      "\n",
      "   micro avg       0.99      0.99      0.99    252180\n",
      "   macro avg       0.49      0.50      0.50    252180\n",
      "weighted avg       0.98      0.99      0.98    252180\n",
      "\n",
      "mass ecom\n"
     ]
    },
    {
     "name": "stderr",
     "output_type": "stream",
     "text": [
      "C:\\ProgramData\\Anaconda3\\lib\\site-packages\\sklearn\\metrics\\classification.py:1143: UndefinedMetricWarning: Precision and F-score are ill-defined and being set to 0.0 in labels with no predicted samples.\n",
      "  'precision', 'predicted', average, warn_for)\n",
      "C:\\ProgramData\\Anaconda3\\lib\\site-packages\\sklearn\\metrics\\classification.py:1143: UndefinedMetricWarning: Precision and F-score are ill-defined and being set to 0.0 in labels with no predicted samples.\n",
      "  'precision', 'predicted', average, warn_for)\n",
      "C:\\ProgramData\\Anaconda3\\lib\\site-packages\\sklearn\\metrics\\classification.py:1143: UndefinedMetricWarning: Precision and F-score are ill-defined and being set to 0.0 in labels with no predicted samples.\n",
      "  'precision', 'predicted', average, warn_for)\n"
     ]
    },
    {
     "name": "stdout",
     "output_type": "stream",
     "text": [
      "              precision    recall  f1-score   support\n",
      "\n",
      "           0       1.00      1.00      1.00    251795\n",
      "           1       0.00      0.00      0.00       385\n",
      "\n",
      "   micro avg       1.00      1.00      1.00    252180\n",
      "   macro avg       0.50      0.50      0.50    252180\n",
      "weighted avg       1.00      1.00      1.00    252180\n",
      "\n",
      "supermarket\n",
      "              precision    recall  f1-score   support\n",
      "\n",
      "           0       0.96      1.00      0.98    242139\n",
      "           1       0.00      0.00      0.00     10041\n",
      "\n",
      "   micro avg       0.96      0.96      0.96    252180\n",
      "   macro avg       0.48      0.50      0.49    252180\n",
      "weighted avg       0.92      0.96      0.94    252180\n",
      "\n"
     ]
    },
    {
     "name": "stderr",
     "output_type": "stream",
     "text": [
      "C:\\ProgramData\\Anaconda3\\lib\\site-packages\\sklearn\\metrics\\classification.py:1143: UndefinedMetricWarning: Precision and F-score are ill-defined and being set to 0.0 in labels with no predicted samples.\n",
      "  'precision', 'predicted', average, warn_for)\n",
      "C:\\ProgramData\\Anaconda3\\lib\\site-packages\\sklearn\\metrics\\classification.py:1143: UndefinedMetricWarning: Precision and F-score are ill-defined and being set to 0.0 in labels with no predicted samples.\n",
      "  'precision', 'predicted', average, warn_for)\n"
     ]
    }
   ],
   "source": [
    "from sklearn.metrics import classification_report, confusion_matrix\n",
    "for cat in listCategory:\n",
    "    print(cat)\n",
    "    print(classification_report(y_test[cat],Y_pred[cat]))"
   ]
  },
  {
   "cell_type": "markdown",
   "metadata": {},
   "source": [
    "## Over sample data"
   ]
  },
  {
   "cell_type": "code",
   "execution_count": 65,
   "metadata": {},
   "outputs": [],
   "source": [
    "# Over sample ở từng category có hay không\n",
    "def over_sample(cat):\n",
    "    max = training_data[cat].value_counts()[0]\n",
    "    \n",
    "    over_sample = pd.concat([\n",
    "        training_data[training_data[cat] == 0],\n",
    "        training_data[training_data[cat] == 1].sample(replace = True, n=max, random_state=42)],\n",
    "        axis=0\n",
    "    )\n",
    "    \n",
    "    X_over = over_sample[[\"hour\",\"dayofweek_number\"]]\n",
    "    y_over = over_sample[cat]\n",
    "    return {\"X\": X_over, \"y\": y_over}"
   ]
  },
  {
   "cell_type": "code",
   "execution_count": 66,
   "metadata": {},
   "outputs": [],
   "source": [
    "dict_over_sample = {}\n",
    "for cat in listCategory:\n",
    "    dict_over_sample[cat] = over_sample(cat)"
   ]
  },
  {
   "cell_type": "code",
   "execution_count": 82,
   "metadata": {},
   "outputs": [],
   "source": [
    "from sklearn.linear_model import LogisticRegression\n",
    "from sklearn.tree import DecisionTreeClassifier\n",
    "from sklearn.ensemble import RandomForestClassifier\n",
    "from sklearn.naive_bayes import GaussianNB\n",
    "from sklearn.naive_bayes import BernoulliNB\n",
    "dictmodel = {}\n",
    "for cat in listCategory:\n",
    "#     model = LogisticRegression() # K\n",
    "#     model = DecisionTreeClassifier() # K\n",
    "#     model =  RandomForestClassifier(n_estimators=50, random_state=101, n_jobs=-1)\n",
    "#     model = GaussianNB()\n",
    "    model = BernoulliNB()\n",
    "    model.fit(dict_over_sample[cat][\"X\"],dict_over_sample[cat][\"y\"])\n",
    "    dictmodel[cat] = model"
   ]
  },
  {
   "cell_type": "code",
   "execution_count": 83,
   "metadata": {},
   "outputs": [
    {
     "data": {
      "text/plain": [
       "{'cvs': array([0, 0, 0, ..., 1, 1, 0], dtype=uint8),\n",
       " 'mass merchant': array([1, 1, 1, ..., 0, 0, 1], dtype=uint8),\n",
       " 'coffee chains and milk tea': array([1, 0, 1, ..., 0, 0, 1], dtype=uint8),\n",
       " 'restaurant': array([0, 1, 0, ..., 1, 1, 1], dtype=uint8),\n",
       " 'fast food': array([0, 1, 0, ..., 1, 0, 1], dtype=uint8),\n",
       " 'shopping': array([0, 1, 0, ..., 1, 0, 1], dtype=uint8),\n",
       " 'mass ecom': array([0, 0, 0, ..., 0, 0, 1], dtype=uint8),\n",
       " 'supermarket': array([0, 1, 0, ..., 1, 0, 1], dtype=uint8)}"
      ]
     },
     "execution_count": 83,
     "metadata": {},
     "output_type": "execute_result"
    }
   ],
   "source": [
    "Y_pred = {}\n",
    "for cat in listCategory:\n",
    "    Y_pred[cat] = dictmodel[cat].predict(X_test)\n",
    "Y_pred"
   ]
  },
  {
   "cell_type": "code",
   "execution_count": 84,
   "metadata": {},
   "outputs": [
    {
     "name": "stdout",
     "output_type": "stream",
     "text": [
      "cvs\n",
      "              precision    recall  f1-score   support\n",
      "\n",
      "           0       0.74      0.70      0.72    177578\n",
      "           1       0.36      0.40      0.38     74602\n",
      "\n",
      "   micro avg       0.61      0.61      0.61    252180\n",
      "   macro avg       0.55      0.55      0.55    252180\n",
      "weighted avg       0.63      0.61      0.62    252180\n",
      "\n",
      "mass merchant\n",
      "              precision    recall  f1-score   support\n",
      "\n",
      "           0       0.65      0.36      0.46    161495\n",
      "           1       0.37      0.65      0.47     90685\n",
      "\n",
      "   micro avg       0.47      0.47      0.47    252180\n",
      "   macro avg       0.51      0.51      0.47    252180\n",
      "weighted avg       0.55      0.47      0.47    252180\n",
      "\n",
      "coffee chains and milk tea\n",
      "              precision    recall  f1-score   support\n",
      "\n",
      "           0       0.84      0.45      0.59    203910\n",
      "           1       0.22      0.65      0.33     48270\n",
      "\n",
      "   micro avg       0.49      0.49      0.49    252180\n",
      "   macro avg       0.53      0.55      0.46    252180\n",
      "weighted avg       0.72      0.49      0.54    252180\n",
      "\n",
      "restaurant\n",
      "              precision    recall  f1-score   support\n",
      "\n",
      "           0       0.96      0.38      0.54    237767\n",
      "           1       0.06      0.71      0.12     14413\n",
      "\n",
      "   micro avg       0.40      0.40      0.40    252180\n",
      "   macro avg       0.51      0.54      0.33    252180\n",
      "weighted avg       0.90      0.40      0.52    252180\n",
      "\n",
      "fast food\n",
      "              precision    recall  f1-score   support\n",
      "\n",
      "           0       0.97      0.40      0.57    241261\n",
      "           1       0.05      0.68      0.09     10919\n",
      "\n",
      "   micro avg       0.41      0.41      0.41    252180\n",
      "   macro avg       0.51      0.54      0.33    252180\n",
      "weighted avg       0.93      0.41      0.54    252180\n",
      "\n",
      "shopping\n",
      "              precision    recall  f1-score   support\n",
      "\n",
      "           0       0.99      0.42      0.59    249315\n",
      "           1       0.01      0.63      0.02      2865\n",
      "\n",
      "   micro avg       0.42      0.42      0.42    252180\n",
      "   macro avg       0.50      0.52      0.31    252180\n",
      "weighted avg       0.98      0.42      0.58    252180\n",
      "\n",
      "mass ecom\n",
      "              precision    recall  f1-score   support\n",
      "\n",
      "           0       1.00      0.59      0.75    251795\n",
      "           1       0.00      0.38      0.00       385\n",
      "\n",
      "   micro avg       0.59      0.59      0.59    252180\n",
      "   macro avg       0.50      0.49      0.37    252180\n",
      "weighted avg       1.00      0.59      0.74    252180\n",
      "\n",
      "supermarket\n",
      "              precision    recall  f1-score   support\n",
      "\n",
      "           0       0.97      0.46      0.62    242139\n",
      "           1       0.05      0.68      0.09     10041\n",
      "\n",
      "   micro avg       0.47      0.47      0.47    252180\n",
      "   macro avg       0.51      0.57      0.36    252180\n",
      "weighted avg       0.94      0.47      0.60    252180\n",
      "\n"
     ]
    }
   ],
   "source": [
    "from sklearn.metrics import classification_report, confusion_matrix\n",
    "for cat in listCategory:\n",
    "    print(cat)\n",
    "    print(classification_report(y_test[cat],Y_pred[cat]))"
   ]
  },
  {
   "cell_type": "markdown",
   "metadata": {},
   "source": [
    "## Under sample data"
   ]
  },
  {
   "cell_type": "code",
   "execution_count": 40,
   "metadata": {},
   "outputs": [],
   "source": [
    "# Under sample ở từng category có hay không\n",
    "def under_sample(cat):\n",
    "    min = training_data[cat].value_counts()[1]\n",
    "    \n",
    "    under_sample = pd.concat([\n",
    "        training_data[training_data[cat] == 0].sample(min, random_state=42),\n",
    "        training_data[training_data[cat] == 1].sample(min, random_state=42)],\n",
    "        axis=0\n",
    "    )\n",
    "    \n",
    "    X_under = under_sample[[\"hour\",\"dayofweek_number\"]]\n",
    "    y_under = under_sample[cat]\n",
    "    return {\"X\": X_under, \"y\": y_under}"
   ]
  },
  {
   "cell_type": "code",
   "execution_count": 41,
   "metadata": {},
   "outputs": [],
   "source": [
    "dict_under_sample = {}\n",
    "for cat in listCategory:\n",
    "    dict_under_sample[cat] = under_sample(cat)"
   ]
  },
  {
   "cell_type": "code",
   "execution_count": 53,
   "metadata": {},
   "outputs": [],
   "source": [
    "from sklearn.linear_model import LogisticRegression\n",
    "from sklearn.tree import DecisionTreeClassifier\n",
    "from sklearn.ensemble import RandomForestClassifier\n",
    "from sklearn.svm import SVC, LinearSVC\n",
    "from sklearn.naive_bayes import GaussianNB\n",
    "from sklearn.naive_bayes import BernoulliNB\n",
    "dictmodel = {}\n",
    "for cat in listCategory:\n",
    "#     model = LogisticRegression() # 1 (0.49)\n",
    "#     model = DecisionTreeClassifier() # 2 (0.39, 0.44)\n",
    "#     model =  RandomForestClassifier(n_estimators=50, random_state=101, n_jobs=-1)\n",
    "    model = GaussianNB()\n",
    "#     model = BernoulliNB()\n",
    "    model.fit(dict_under_sample[cat][\"X\"],dict_under_sample[cat][\"y\"])\n",
    "    dictmodel[cat] = model"
   ]
  },
  {
   "cell_type": "code",
   "execution_count": 54,
   "metadata": {},
   "outputs": [
    {
     "data": {
      "text/plain": [
       "{'cvs': array([0, 0, 0, ..., 1, 1, 0], dtype=uint8),\n",
       " 'mass merchant': array([1, 1, 1, ..., 0, 0, 1], dtype=uint8),\n",
       " 'coffee chains and milk tea': array([1, 0, 1, ..., 0, 0, 1], dtype=uint8),\n",
       " 'restaurant': array([0, 1, 0, ..., 1, 1, 1], dtype=uint8),\n",
       " 'fast food': array([0, 1, 0, ..., 1, 0, 1], dtype=uint8),\n",
       " 'shopping': array([0, 1, 0, ..., 1, 0, 1], dtype=uint8),\n",
       " 'mass ecom': array([0, 0, 0, ..., 0, 0, 1], dtype=uint8),\n",
       " 'supermarket': array([0, 1, 0, ..., 1, 0, 1], dtype=uint8)}"
      ]
     },
     "execution_count": 54,
     "metadata": {},
     "output_type": "execute_result"
    }
   ],
   "source": [
    "Y_pred = {}\n",
    "for cat in listCategory:\n",
    "    Y_pred[cat] = dictmodel[cat].predict(X_test)\n",
    "Y_pred"
   ]
  },
  {
   "cell_type": "code",
   "execution_count": 55,
   "metadata": {
    "scrolled": true
   },
   "outputs": [
    {
     "name": "stdout",
     "output_type": "stream",
     "text": [
      "cvs\n",
      "              precision    recall  f1-score   support\n",
      "\n",
      "           0       0.74      0.69      0.71    177578\n",
      "           1       0.36      0.41      0.38     74602\n",
      "\n",
      "   micro avg       0.61      0.61      0.61    252180\n",
      "   macro avg       0.55      0.55      0.55    252180\n",
      "weighted avg       0.62      0.61      0.62    252180\n",
      "\n",
      "mass merchant\n",
      "              precision    recall  f1-score   support\n",
      "\n",
      "           0       0.65      0.37      0.47    161495\n",
      "           1       0.36      0.64      0.46     90685\n",
      "\n",
      "   micro avg       0.47      0.47      0.47    252180\n",
      "   macro avg       0.51      0.51      0.47    252180\n",
      "weighted avg       0.55      0.47      0.47    252180\n",
      "\n",
      "coffee chains and milk tea\n",
      "              precision    recall  f1-score   support\n",
      "\n",
      "           0       0.84      0.45      0.59    203910\n",
      "           1       0.22      0.65      0.33     48270\n",
      "\n",
      "   micro avg       0.49      0.49      0.49    252180\n",
      "   macro avg       0.53      0.55      0.46    252180\n",
      "weighted avg       0.72      0.49      0.54    252180\n",
      "\n",
      "restaurant\n",
      "              precision    recall  f1-score   support\n",
      "\n",
      "           0       0.96      0.38      0.54    237767\n",
      "           1       0.06      0.71      0.12     14413\n",
      "\n",
      "   micro avg       0.40      0.40      0.40    252180\n",
      "   macro avg       0.51      0.54      0.33    252180\n",
      "weighted avg       0.90      0.40      0.52    252180\n",
      "\n",
      "fast food\n",
      "              precision    recall  f1-score   support\n",
      "\n",
      "           0       0.97      0.39      0.55    241261\n",
      "           1       0.05      0.69      0.09     10919\n",
      "\n",
      "   micro avg       0.40      0.40      0.40    252180\n",
      "   macro avg       0.51      0.54      0.32    252180\n",
      "weighted avg       0.93      0.40      0.53    252180\n",
      "\n",
      "shopping\n",
      "              precision    recall  f1-score   support\n",
      "\n",
      "           0       0.99      0.38      0.55    249315\n",
      "           1       0.01      0.67      0.02      2865\n",
      "\n",
      "   micro avg       0.38      0.38      0.38    252180\n",
      "   macro avg       0.50      0.52      0.29    252180\n",
      "weighted avg       0.98      0.38      0.54    252180\n",
      "\n",
      "mass ecom\n",
      "              precision    recall  f1-score   support\n",
      "\n",
      "           0       1.00      0.54      0.70    251795\n",
      "           1       0.00      0.42      0.00       385\n",
      "\n",
      "   micro avg       0.54      0.54      0.54    252180\n",
      "   macro avg       0.50      0.48      0.35    252180\n",
      "weighted avg       1.00      0.54      0.70    252180\n",
      "\n",
      "supermarket\n",
      "              precision    recall  f1-score   support\n",
      "\n",
      "           0       0.97      0.45      0.62    242139\n",
      "           1       0.05      0.68      0.09     10041\n",
      "\n",
      "   micro avg       0.46      0.46      0.46    252180\n",
      "   macro avg       0.51      0.57      0.35    252180\n",
      "weighted avg       0.93      0.46      0.60    252180\n",
      "\n"
     ]
    }
   ],
   "source": [
    "from sklearn.metrics import classification_report, confusion_matrix\n",
    "for cat in listCategory:\n",
    "    print(cat)\n",
    "    print(classification_report(y_test[cat],Y_pred[cat]))"
   ]
  },
  {
   "cell_type": "markdown",
   "metadata": {},
   "source": [
    "# Write Model in File"
   ]
  },
  {
   "cell_type": "code",
   "execution_count": 19,
   "metadata": {},
   "outputs": [],
   "source": [
    "import pickle\n",
    "import os\n",
    "\n",
    "for modelcate in dictmodel:\n",
    "    pickle.dump(dictmodel[modelcate], open(os.path.join('..','TrainModel', modelcate + '.pkl'),'wb'), protocol=4)"
   ]
  },
  {
   "cell_type": "markdown",
   "metadata": {},
   "source": [
    "# Read model and Predict"
   ]
  },
  {
   "cell_type": "code",
   "execution_count": null,
   "metadata": {},
   "outputs": [],
   "source": [
    "def ReadModel(catname):\n",
    "    mymodel = None\n",
    "    try:\n",
    "        with open(\"../TrainModel/\"+catname+\".pkl\", 'rb') as model:\n",
    "            mymodel = pickle.load(model)\n",
    "    except IOError:\n",
    "        print(\"File not found!!\")\n",
    "    return mymodel"
   ]
  },
  {
   "cell_type": "code",
   "execution_count": null,
   "metadata": {},
   "outputs": [],
   "source": [
    "dictmodel = {}\n",
    "for cat in listCategory:\n",
    "    dictmodel[cat] = ReadModel(cat)\n"
   ]
  },
  {
   "cell_type": "code",
   "execution_count": null,
   "metadata": {},
   "outputs": [],
   "source": [
    "param = pd.DataFrame(np.array([[8,7]]), columns=['hour','dayofweek_number'])\n",
    "re = [cat for cat in listCategory if dictmodel[cat].predict(param)[0] == 1]\n",
    "re\n"
   ]
  },
  {
   "cell_type": "code",
   "execution_count": null,
   "metadata": {},
   "outputs": [],
   "source": [
    "import operator\n",
    "pred = {}\n",
    "for cat in listCategory:\n",
    "    neg , pos = dictmodel[cat].predict_proba(param)[0]\n",
    "    if pos > neg:\n",
    "        pred[cat] = pos\n",
    "sorted(pred.items(), key=operator.itemgetter(0))"
   ]
  }
 ],
 "metadata": {
  "kernelspec": {
   "display_name": "Python 3",
   "language": "python",
   "name": "python3"
  },
  "language_info": {
   "codemirror_mode": {
    "name": "ipython",
    "version": 3
   },
   "file_extension": ".py",
   "mimetype": "text/x-python",
   "name": "python",
   "nbconvert_exporter": "python",
   "pygments_lexer": "ipython3",
   "version": "3.7.3"
  }
 },
 "nbformat": 4,
 "nbformat_minor": 2
}
