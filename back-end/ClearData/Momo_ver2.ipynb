{
 "cells": [
  {
   "cell_type": "code",
   "execution_count": 1,
   "metadata": {},
   "outputs": [],
   "source": [
    "import pandas as pd\n",
    "import numpy as np\n",
    "import seaborn as sns\n",
    "import matplotlib.pyplot as plt"
   ]
  },
  {
   "cell_type": "code",
   "execution_count": 2,
   "metadata": {},
   "outputs": [
    {
     "data": {
      "text/html": [
       "<div>\n",
       "<style scoped>\n",
       "    .dataframe tbody tr th:only-of-type {\n",
       "        vertical-align: middle;\n",
       "    }\n",
       "\n",
       "    .dataframe tbody tr th {\n",
       "        vertical-align: top;\n",
       "    }\n",
       "\n",
       "    .dataframe thead th {\n",
       "        text-align: right;\n",
       "    }\n",
       "</style>\n",
       "<table border=\"1\" class=\"dataframe\">\n",
       "  <thead>\n",
       "    <tr style=\"text-align: right;\">\n",
       "      <th></th>\n",
       "      <th>timestamp</th>\n",
       "      <th>user_id</th>\n",
       "      <th>service_id</th>\n",
       "      <th>store_id</th>\n",
       "      <th>amount</th>\n",
       "      <th>time</th>\n",
       "      <th>hour</th>\n",
       "      <th>dayofweek</th>\n",
       "      <th>category</th>\n",
       "      <th>dayofweek_number</th>\n",
       "    </tr>\n",
       "  </thead>\n",
       "  <tbody>\n",
       "    <tr>\n",
       "      <th>0</th>\n",
       "      <td>1.564590e+12</td>\n",
       "      <td>8.160000e+18</td>\n",
       "      <td>1.330000e+18</td>\n",
       "      <td>3.210000e+18</td>\n",
       "      <td>85000</td>\n",
       "      <td>31/07/2019 16:20</td>\n",
       "      <td>17</td>\n",
       "      <td>Wednesday</td>\n",
       "      <td>cvs</td>\n",
       "      <td>2</td>\n",
       "    </tr>\n",
       "    <tr>\n",
       "      <th>1</th>\n",
       "      <td>1.564600e+12</td>\n",
       "      <td>2.330000e+18</td>\n",
       "      <td>1.560000e+18</td>\n",
       "      <td>5.010000e+18</td>\n",
       "      <td>996000</td>\n",
       "      <td>31/07/2019 19:06</td>\n",
       "      <td>18</td>\n",
       "      <td>Wednesday</td>\n",
       "      <td>mass merchant</td>\n",
       "      <td>2</td>\n",
       "    </tr>\n",
       "    <tr>\n",
       "      <th>2</th>\n",
       "      <td>1.564600e+12</td>\n",
       "      <td>6.330000e+18</td>\n",
       "      <td>2.840000e+18</td>\n",
       "      <td>6.240000e+18</td>\n",
       "      <td>190000</td>\n",
       "      <td>31/07/2019 19:06</td>\n",
       "      <td>18</td>\n",
       "      <td>Wednesday</td>\n",
       "      <td>mass merchant</td>\n",
       "      <td>2</td>\n",
       "    </tr>\n",
       "    <tr>\n",
       "      <th>3</th>\n",
       "      <td>1.564600e+12</td>\n",
       "      <td>4.730000e+18</td>\n",
       "      <td>2.840000e+18</td>\n",
       "      <td>6.240000e+18</td>\n",
       "      <td>961000</td>\n",
       "      <td>31/07/2019 19:06</td>\n",
       "      <td>18</td>\n",
       "      <td>Wednesday</td>\n",
       "      <td>mass merchant</td>\n",
       "      <td>2</td>\n",
       "    </tr>\n",
       "    <tr>\n",
       "      <th>4</th>\n",
       "      <td>1.564600e+12</td>\n",
       "      <td>3.580000e+18</td>\n",
       "      <td>5.250000e+18</td>\n",
       "      <td>8.850000e+18</td>\n",
       "      <td>1278000</td>\n",
       "      <td>31/07/2019 19:06</td>\n",
       "      <td>20</td>\n",
       "      <td>Wednesday</td>\n",
       "      <td>mass merchant</td>\n",
       "      <td>2</td>\n",
       "    </tr>\n",
       "  </tbody>\n",
       "</table>\n",
       "</div>"
      ],
      "text/plain": [
       "      timestamp       user_id    service_id      store_id   amount  \\\n",
       "0  1.564590e+12  8.160000e+18  1.330000e+18  3.210000e+18    85000   \n",
       "1  1.564600e+12  2.330000e+18  1.560000e+18  5.010000e+18   996000   \n",
       "2  1.564600e+12  6.330000e+18  2.840000e+18  6.240000e+18   190000   \n",
       "3  1.564600e+12  4.730000e+18  2.840000e+18  6.240000e+18   961000   \n",
       "4  1.564600e+12  3.580000e+18  5.250000e+18  8.850000e+18  1278000   \n",
       "\n",
       "               time  hour  dayofweek       category  dayofweek_number  \n",
       "0  31/07/2019 16:20    17  Wednesday            cvs                 2  \n",
       "1  31/07/2019 19:06    18  Wednesday  mass merchant                 2  \n",
       "2  31/07/2019 19:06    18  Wednesday  mass merchant                 2  \n",
       "3  31/07/2019 19:06    18  Wednesday  mass merchant                 2  \n",
       "4  31/07/2019 19:06    20  Wednesday  mass merchant                 2  "
      ]
     },
     "execution_count": 2,
     "metadata": {},
     "output_type": "execute_result"
    }
   ],
   "source": [
    "tra2 = pd.read_csv(\"./DataSet/momo_trans (2).csv\")\n",
    "tra2.head()"
   ]
  },
  {
   "cell_type": "code",
   "execution_count": 3,
   "metadata": {},
   "outputs": [
    {
     "data": {
      "text/plain": [
       "array(['cvs', 'mass merchant', 'coffee chains and milk tea', 'restaurant',\n",
       "       'fast food', 'shopping', 'mass ecom', 'supermarket'], dtype=object)"
      ]
     },
     "execution_count": 3,
     "metadata": {},
     "output_type": "execute_result"
    }
   ],
   "source": [
    "listCategory = tra2['category'].unique()\n",
    "listCategory"
   ]
  },
  {
   "cell_type": "code",
   "execution_count": null,
   "metadata": {
    "scrolled": true
   },
   "outputs": [
    {
     "data": {
      "text/plain": [
       "{'cvs': 29.560135617416133,\n",
       " 'mass merchant': 35.992445871996196,\n",
       " 'coffee chains and milk tea': 19.100741533825047,\n",
       " 'restaurant': 5.75025775239908,\n",
       " 'fast food': 4.31011579030851,\n",
       " 'shopping': 1.140653501467206,\n",
       " 'mass ecom': 0.14870330716155128,\n",
       " 'supermarket': 3.9969466254262827}"
      ]
     },
     "execution_count": 4,
     "metadata": {},
     "output_type": "execute_result"
    }
   ],
   "source": [
    "percentage = {}\n",
    "for i in listCategory:\n",
    "    percentage[i] = (tra2[\"category\"] == i).sum() / tra2.shape[0] * 100\n",
    "percentage"
   ]
  },
  {
   "cell_type": "code",
   "execution_count": null,
   "metadata": {},
   "outputs": [
    {
     "data": {
      "text/html": [
       "<div>\n",
       "<style scoped>\n",
       "    .dataframe tbody tr th:only-of-type {\n",
       "        vertical-align: middle;\n",
       "    }\n",
       "\n",
       "    .dataframe tbody tr th {\n",
       "        vertical-align: top;\n",
       "    }\n",
       "\n",
       "    .dataframe thead th {\n",
       "        text-align: right;\n",
       "    }\n",
       "</style>\n",
       "<table border=\"1\" class=\"dataframe\">\n",
       "  <thead>\n",
       "    <tr style=\"text-align: right;\">\n",
       "      <th></th>\n",
       "      <th>hour</th>\n",
       "      <th>dayofweek_number</th>\n",
       "    </tr>\n",
       "  </thead>\n",
       "  <tbody>\n",
       "    <tr>\n",
       "      <th>684327</th>\n",
       "      <td>4</td>\n",
       "      <td>3</td>\n",
       "    </tr>\n",
       "    <tr>\n",
       "      <th>717676</th>\n",
       "      <td>5</td>\n",
       "      <td>5</td>\n",
       "    </tr>\n",
       "    <tr>\n",
       "      <th>192258</th>\n",
       "      <td>12</td>\n",
       "      <td>1</td>\n",
       "    </tr>\n",
       "    <tr>\n",
       "      <th>683385</th>\n",
       "      <td>11</td>\n",
       "      <td>5</td>\n",
       "    </tr>\n",
       "    <tr>\n",
       "      <th>971857</th>\n",
       "      <td>5</td>\n",
       "      <td>0</td>\n",
       "    </tr>\n",
       "    <tr>\n",
       "      <th>367651</th>\n",
       "      <td>11</td>\n",
       "      <td>0</td>\n",
       "    </tr>\n",
       "    <tr>\n",
       "      <th>848757</th>\n",
       "      <td>1</td>\n",
       "      <td>0</td>\n",
       "    </tr>\n",
       "    <tr>\n",
       "      <th>454053</th>\n",
       "      <td>13</td>\n",
       "      <td>5</td>\n",
       "    </tr>\n",
       "    <tr>\n",
       "      <th>92028</th>\n",
       "      <td>8</td>\n",
       "      <td>6</td>\n",
       "    </tr>\n",
       "    <tr>\n",
       "      <th>5265</th>\n",
       "      <td>12</td>\n",
       "      <td>6</td>\n",
       "    </tr>\n",
       "  </tbody>\n",
       "</table>\n",
       "</div>"
      ],
      "text/plain": [
       "        hour  dayofweek_number\n",
       "684327     4                 3\n",
       "717676     5                 5\n",
       "192258    12                 1\n",
       "683385    11                 5\n",
       "971857     5                 0\n",
       "367651    11                 0\n",
       "848757     1                 0\n",
       "454053    13                 5\n",
       "92028      8                 6\n",
       "5265      12                 6"
      ]
     },
     "execution_count": 5,
     "metadata": {},
     "output_type": "execute_result"
    }
   ],
   "source": [
    "X = tra2[[\"hour\",\"dayofweek_number\"]]\n",
    "y = tra2[\"category\"]\n",
    "X.sample(10)"
   ]
  },
  {
   "cell_type": "code",
   "execution_count": null,
   "metadata": {},
   "outputs": [
    {
     "data": {
      "text/html": [
       "<div>\n",
       "<style scoped>\n",
       "    .dataframe tbody tr th:only-of-type {\n",
       "        vertical-align: middle;\n",
       "    }\n",
       "\n",
       "    .dataframe tbody tr th {\n",
       "        vertical-align: top;\n",
       "    }\n",
       "\n",
       "    .dataframe thead th {\n",
       "        text-align: right;\n",
       "    }\n",
       "</style>\n",
       "<table border=\"1\" class=\"dataframe\">\n",
       "  <thead>\n",
       "    <tr style=\"text-align: right;\">\n",
       "      <th></th>\n",
       "      <th>coffee chains and milk tea</th>\n",
       "      <th>cvs</th>\n",
       "      <th>fast food</th>\n",
       "      <th>mass ecom</th>\n",
       "      <th>mass merchant</th>\n",
       "      <th>restaurant</th>\n",
       "      <th>shopping</th>\n",
       "      <th>supermarket</th>\n",
       "    </tr>\n",
       "  </thead>\n",
       "  <tbody>\n",
       "    <tr>\n",
       "      <th>0</th>\n",
       "      <td>0</td>\n",
       "      <td>1</td>\n",
       "      <td>0</td>\n",
       "      <td>0</td>\n",
       "      <td>0</td>\n",
       "      <td>0</td>\n",
       "      <td>0</td>\n",
       "      <td>0</td>\n",
       "    </tr>\n",
       "    <tr>\n",
       "      <th>1</th>\n",
       "      <td>0</td>\n",
       "      <td>0</td>\n",
       "      <td>0</td>\n",
       "      <td>0</td>\n",
       "      <td>1</td>\n",
       "      <td>0</td>\n",
       "      <td>0</td>\n",
       "      <td>0</td>\n",
       "    </tr>\n",
       "    <tr>\n",
       "      <th>2</th>\n",
       "      <td>0</td>\n",
       "      <td>0</td>\n",
       "      <td>0</td>\n",
       "      <td>0</td>\n",
       "      <td>1</td>\n",
       "      <td>0</td>\n",
       "      <td>0</td>\n",
       "      <td>0</td>\n",
       "    </tr>\n",
       "    <tr>\n",
       "      <th>3</th>\n",
       "      <td>0</td>\n",
       "      <td>0</td>\n",
       "      <td>0</td>\n",
       "      <td>0</td>\n",
       "      <td>1</td>\n",
       "      <td>0</td>\n",
       "      <td>0</td>\n",
       "      <td>0</td>\n",
       "    </tr>\n",
       "    <tr>\n",
       "      <th>4</th>\n",
       "      <td>0</td>\n",
       "      <td>0</td>\n",
       "      <td>0</td>\n",
       "      <td>0</td>\n",
       "      <td>1</td>\n",
       "      <td>0</td>\n",
       "      <td>0</td>\n",
       "      <td>0</td>\n",
       "    </tr>\n",
       "  </tbody>\n",
       "</table>\n",
       "</div>"
      ],
      "text/plain": [
       "   coffee chains and milk tea  cvs  fast food  mass ecom  mass merchant  \\\n",
       "0                           0    1          0          0              0   \n",
       "1                           0    0          0          0              1   \n",
       "2                           0    0          0          0              1   \n",
       "3                           0    0          0          0              1   \n",
       "4                           0    0          0          0              1   \n",
       "\n",
       "   restaurant  shopping  supermarket  \n",
       "0           0         0            0  \n",
       "1           0         0            0  \n",
       "2           0         0            0  \n",
       "3           0         0            0  \n",
       "4           0         0            0  "
      ]
     },
     "execution_count": 6,
     "metadata": {},
     "output_type": "execute_result"
    }
   ],
   "source": [
    "y = pd.get_dummies(y)\n",
    "y.head()"
   ]
  },
  {
   "cell_type": "code",
   "execution_count": null,
   "metadata": {},
   "outputs": [],
   "source": [
    "from sklearn.model_selection import train_test_split\n",
    "X_train, X_test, y_train, y_test = train_test_split(X, y, test_size=0.25, random_state=42)"
   ]
  },
  {
   "cell_type": "code",
   "execution_count": null,
   "metadata": {},
   "outputs": [],
   "source": [
    "training_data = pd.concat ([X_train,y_train],axis = 1)\n",
    "training_data.head()"
   ]
  },
  {
   "cell_type": "code",
   "execution_count": null,
   "metadata": {},
   "outputs": [],
   "source": [
    "test_data = pd.concat ([X_test,y_test],axis = 1)\n",
    "test_data.head()"
   ]
  },
  {
   "cell_type": "code",
   "execution_count": null,
   "metadata": {},
   "outputs": [],
   "source": [
    "data_value_counts = {}\n",
    "for i in listCategory:\n",
    "    data_value_counts[i] = training_data[i].value_counts()[1]\n",
    "data_value_counts = pd.Series(data_value_counts)\n",
    "data_value_counts"
   ]
  },
  {
   "cell_type": "markdown",
   "metadata": {},
   "source": [
    "# Under sample data"
   ]
  },
  {
   "cell_type": "code",
   "execution_count": null,
   "metadata": {},
   "outputs": [],
   "source": [
    "min_data = data_value_counts.min()\n",
    "\n",
    "under_sample = pd.DataFrame()\n",
    "for cat in data_value_counts.index:\n",
    "    data = training_data[training_data[cat] == 1].sample(min_data)\n",
    "    under_sample = pd.concat([under_sample, data], axis=0)\n",
    "\n",
    "for cat in data_value_counts.index:\n",
    "    cat_data = under_sample[under_sample[cat] == 1]\n",
    "    print(\"Percentage of \" + cat,cat_data.shape[0] / under_sample.shape[0])\n",
    "\n",
    "under_sample.sample(10)"
   ]
  },
  {
   "cell_type": "markdown",
   "metadata": {},
   "source": [
    "# Dự đoán từng cái category có hay không"
   ]
  },
  {
   "cell_type": "code",
   "execution_count": null,
   "metadata": {},
   "outputs": [],
   "source": [
    "for i in listCategory:\n",
    "    print(i)\n",
    "    print(training_data[i].value_counts())\n",
    "    print(\"=========\")"
   ]
  },
  {
   "cell_type": "code",
   "execution_count": null,
   "metadata": {},
   "outputs": [],
   "source": [
    "# Under sample ở từng category có hay không\n",
    "def under_sample(cat):\n",
    "    min = training_data[cat].value_counts()[1]\n",
    "    \n",
    "    under_sample = pd.concat([\n",
    "        training_data[training_data[cat] == 0].sample(min),\n",
    "        training_data[training_data[cat] == 1].sample(min)],\n",
    "        axis=0\n",
    "    )\n",
    "    \n",
    "    X_under = under_sample[[\"hour\",\"dayofweek_number\"]]\n",
    "    y_under = under_sample[cat]\n",
    "    return {\"X\": X_under, \"y\": y_under}"
   ]
  },
  {
   "cell_type": "code",
   "execution_count": null,
   "metadata": {},
   "outputs": [],
   "source": [
    "dict_under_sample = {}\n",
    "for cat in listCategory:\n",
    "    dict_under_sample[cat] = under_sample(cat)"
   ]
  },
  {
   "cell_type": "code",
   "execution_count": null,
   "metadata": {},
   "outputs": [],
   "source": [
    "from sklearn.linear_model import LogisticRegression\n",
    "from sklearn.tree import DecisionTreeClassifier\n",
    "from sklearn.ensemble import RandomForestClassifier\n",
    "from sklearn.svm import SVC, LinearSVC\n",
    "from sklearn.naive_bayes import GaussianNB\n",
    "from sklearn.naive_bayes import BernoulliNB\n",
    "dictmodel = {}\n",
    "for cat in listCategory:\n",
    "#     model = LogisticRegression() # 1 (0.49)\n",
    "#     model = DecisionTreeClassifier() # 2 (0.39, 0.44)\n",
    "    model =  RandomForestClassifier(n_estimators=50, random_state=101, n_jobs=-1)\n",
    "#     model = SVC()\n",
    "#     model = GaussianNB()\n",
    "#     model = BernuolliNB()\n",
    "    model.fit(dict_under_sample[cat][\"X\"],dict_under_sample[cat][\"y\"])\n",
    "    dictmodel[cat] = model"
   ]
  },
  {
   "cell_type": "code",
   "execution_count": null,
   "metadata": {},
   "outputs": [],
   "source": [
    "Y_pred = {}\n",
    "for cat in listCategory:\n",
    "    Y_pred[cat] = dictmodel[cat].predict(X_test)\n",
    "Y_pred"
   ]
  },
  {
   "cell_type": "code",
   "execution_count": null,
   "metadata": {
    "scrolled": true
   },
   "outputs": [],
   "source": [
    "from sklearn.metrics import classification_report, confusion_matrix\n",
    "for cat in listCategory:\n",
    "    print(cat)\n",
    "    print(classification_report(test_data[cat],Y_pred[cat]))"
   ]
  },
  {
   "cell_type": "code",
   "execution_count": null,
   "metadata": {},
   "outputs": [],
   "source": []
  },
  {
   "cell_type": "code",
   "execution_count": null,
   "metadata": {},
   "outputs": [],
   "source": [
    "import pickle\n",
    "import os\n",
    "\n",
    "for modelcate in dictmodel:\n",
    "    pickle.dump(dictmodel[modelcate], open(os.path.join('TrainModel', modelcate + '.pkl'),'wb'), protocol=4)"
   ]
  },
  {
   "cell_type": "markdown",
   "metadata": {},
   "source": [
    "# Read model and Predict"
   ]
  },
  {
   "cell_type": "code",
   "execution_count": null,
   "metadata": {},
   "outputs": [],
   "source": [
    "def ReadModel(catname):\n",
    "    mymodel = None\n",
    "    try:\n",
    "        with open(\"./TrainModel/\"+catname+\".pkl\", 'rb') as model:\n",
    "            mymodel = pickle.load(model)\n",
    "    except IOError:\n",
    "        print(\"File not found!!\")\n",
    "    return mymodel"
   ]
  },
  {
   "cell_type": "code",
   "execution_count": null,
   "metadata": {},
   "outputs": [],
   "source": [
    "dictmodel = {}\n",
    "for cat in listCategory:\n",
    "    dictmodel[cat] = ReadModel(cat)\n"
   ]
  },
  {
   "cell_type": "code",
   "execution_count": null,
   "metadata": {},
   "outputs": [],
   "source": [
    "param = pd.DataFrame(np.array([[8,7]]), columns=['hour','dayofweek_number'])\n",
    "re = [cat for cat in listCategory if dictmodel[cat].predict(param)[0] == 1]\n",
    "re\n"
   ]
  },
  {
   "cell_type": "code",
   "execution_count": null,
   "metadata": {},
   "outputs": [],
   "source": [
    "import operator\n",
    "pred = {}\n",
    "for cat in listCategory:\n",
    "    neg , pos = dictmodel[cat].predict_proba(param)[0]\n",
    "    if pos > neg:\n",
    "        pred[cat] = pos\n",
    "sorted(pred.items(), key=operator.itemgetter(0))"
   ]
  },
  {
   "cell_type": "code",
   "execution_count": null,
   "metadata": {},
   "outputs": [],
   "source": []
  }
 ],
 "metadata": {
  "kernelspec": {
   "display_name": "Python 3",
   "language": "python",
   "name": "python3"
  },
  "language_info": {
   "codemirror_mode": {
    "name": "ipython",
    "version": 3
   },
   "file_extension": ".py",
   "mimetype": "text/x-python",
   "name": "python",
   "nbconvert_exporter": "python",
   "pygments_lexer": "ipython3",
   "version": "3.7.3"
  }
 },
 "nbformat": 4,
 "nbformat_minor": 2
}
